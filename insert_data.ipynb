{
 "cells": [
  {
   "cell_type": "code",
   "execution_count": 1,
   "id": "4196468e",
   "metadata": {},
   "outputs": [],
   "source": [
    "import numpy as np\n",
    "import pandas as pd\n",
    "\n",
    "from sql import SQLConnector"
   ]
  },
  {
   "cell_type": "markdown",
   "id": "396f431d",
   "metadata": {},
   "source": [
    "##  Load Datasets"
   ]
  },
  {
   "cell_type": "code",
   "execution_count": 2,
   "id": "0bbb57a3",
   "metadata": {},
   "outputs": [],
   "source": [
    "df1 = pd.read_csv(\"data/JAPAN_DATASET.csv\")\n",
    "df1[\"source\"] = \"dataset\""
   ]
  },
  {
   "cell_type": "code",
   "execution_count": 3,
   "id": "0bf83586",
   "metadata": {},
   "outputs": [],
   "source": [
    "df2 = pd.read_csv(\"data/JAPAN_GEOFON.csv\")\n",
    "df2[\"source\"] = \"geofon\""
   ]
  },
  {
   "cell_type": "code",
   "execution_count": 4,
   "id": "23ab8fc8",
   "metadata": {},
   "outputs": [],
   "source": [
    "df3 = pd.read_csv(\"data/japan_earthquakes.csv\")\n",
    "df3[\"source\"] = \"usgs\""
   ]
  },
  {
   "cell_type": "code",
   "execution_count": 5,
   "id": "1932b7a6",
   "metadata": {},
   "outputs": [],
   "source": [
    "df = pd.concat([df1, df2, df3]).reset_index(drop=True).rename(columns={\"mag\": \"magnitude\"})\n",
    "df[\"time\"] =  pd.to_datetime(df[\"time\"], format=\"mixed\", utc=True)"
   ]
  },
  {
   "cell_type": "markdown",
   "id": "1947004f",
   "metadata": {},
   "source": [
    "## SQL"
   ]
  },
  {
   "cell_type": "code",
   "execution_count": 6,
   "id": "a5b87e23",
   "metadata": {},
   "outputs": [],
   "source": [
    "conn = SQLConnector()"
   ]
  },
  {
   "cell_type": "code",
   "execution_count": 7,
   "id": "c6bc7e67",
   "metadata": {},
   "outputs": [],
   "source": [
    "conn.insert(df)"
   ]
  },
  {
   "cell_type": "code",
   "execution_count": 8,
   "id": "f225b085",
   "metadata": {},
   "outputs": [
    {
     "data": {
      "text/html": [
       "<div>\n",
       "<style scoped>\n",
       "    .dataframe tbody tr th:only-of-type {\n",
       "        vertical-align: middle;\n",
       "    }\n",
       "\n",
       "    .dataframe tbody tr th {\n",
       "        vertical-align: top;\n",
       "    }\n",
       "\n",
       "    .dataframe thead th {\n",
       "        text-align: right;\n",
       "    }\n",
       "</style>\n",
       "<table border=\"1\" class=\"dataframe\">\n",
       "  <thead>\n",
       "    <tr style=\"text-align: right;\">\n",
       "      <th></th>\n",
       "      <th>time</th>\n",
       "      <th>longitude</th>\n",
       "      <th>latitude</th>\n",
       "      <th>depth</th>\n",
       "      <th>magnitude</th>\n",
       "      <th>region</th>\n",
       "      <th>source</th>\n",
       "    </tr>\n",
       "  </thead>\n",
       "  <tbody>\n",
       "    <tr>\n",
       "      <th>0</th>\n",
       "      <td>2025-09-15 12:45:30.123000+00:00</td>\n",
       "      <td>142.3690</td>\n",
       "      <td>38.3220</td>\n",
       "      <td>35.000</td>\n",
       "      <td>5.1</td>\n",
       "      <td>off east coast of Honshu</td>\n",
       "      <td>dataset</td>\n",
       "    </tr>\n",
       "    <tr>\n",
       "      <th>1</th>\n",
       "      <td>2025-09-17 14:10:05+00:00</td>\n",
       "      <td>141.3545</td>\n",
       "      <td>43.0618</td>\n",
       "      <td>10.200</td>\n",
       "      <td>4.8</td>\n",
       "      <td>Hokkaido</td>\n",
       "      <td>dataset</td>\n",
       "    </tr>\n",
       "    <tr>\n",
       "      <th>2</th>\n",
       "      <td>2025-09-18 23:11:55+00:00</td>\n",
       "      <td>130.4017</td>\n",
       "      <td>33.5904</td>\n",
       "      <td>12.000</td>\n",
       "      <td>4.9</td>\n",
       "      <td>Fukuoka</td>\n",
       "      <td>dataset</td>\n",
       "    </tr>\n",
       "    <tr>\n",
       "      <th>3</th>\n",
       "      <td>2025-09-19 05:00:00+00:00</td>\n",
       "      <td>139.6917</td>\n",
       "      <td>35.6895</td>\n",
       "      <td>999.000</td>\n",
       "      <td>5.5</td>\n",
       "      <td>Tokyo</td>\n",
       "      <td>dataset</td>\n",
       "    </tr>\n",
       "    <tr>\n",
       "      <th>4</th>\n",
       "      <td>2025-09-20 14:30:10.789000+00:00</td>\n",
       "      <td>140.4670</td>\n",
       "      <td>37.7650</td>\n",
       "      <td>25.000</td>\n",
       "      <td>4.6</td>\n",
       "      <td>Fukushima Prefecture</td>\n",
       "      <td>dataset</td>\n",
       "    </tr>\n",
       "    <tr>\n",
       "      <th>...</th>\n",
       "      <td>...</td>\n",
       "      <td>...</td>\n",
       "      <td>...</td>\n",
       "      <td>...</td>\n",
       "      <td>...</td>\n",
       "      <td>...</td>\n",
       "      <td>...</td>\n",
       "    </tr>\n",
       "    <tr>\n",
       "      <th>88</th>\n",
       "      <td>2025-09-08 10:24:29.806000+00:00</td>\n",
       "      <td>140.4434</td>\n",
       "      <td>32.1620</td>\n",
       "      <td>97.964</td>\n",
       "      <td>4.5</td>\n",
       "      <td>Izu Islands</td>\n",
       "      <td>usgs</td>\n",
       "    </tr>\n",
       "    <tr>\n",
       "      <th>89</th>\n",
       "      <td>2025-09-08 03:45:47.580000+00:00</td>\n",
       "      <td>141.7538</td>\n",
       "      <td>32.4076</td>\n",
       "      <td>10.000</td>\n",
       "      <td>4.6</td>\n",
       "      <td>Izu Islands</td>\n",
       "      <td>usgs</td>\n",
       "    </tr>\n",
       "    <tr>\n",
       "      <th>90</th>\n",
       "      <td>2025-09-07 23:24:22.854000+00:00</td>\n",
       "      <td>137.0576</td>\n",
       "      <td>37.3791</td>\n",
       "      <td>10.329</td>\n",
       "      <td>4.5</td>\n",
       "      <td>Anamizu</td>\n",
       "      <td>usgs</td>\n",
       "    </tr>\n",
       "    <tr>\n",
       "      <th>91</th>\n",
       "      <td>2025-09-07 12:31:41.554000+00:00</td>\n",
       "      <td>139.9912</td>\n",
       "      <td>31.4219</td>\n",
       "      <td>124.394</td>\n",
       "      <td>4.3</td>\n",
       "      <td>Izu Islands</td>\n",
       "      <td>usgs</td>\n",
       "    </tr>\n",
       "    <tr>\n",
       "      <th>92</th>\n",
       "      <td>2025-09-07 06:51:08.246000+00:00</td>\n",
       "      <td>141.0657</td>\n",
       "      <td>26.2732</td>\n",
       "      <td>117.054</td>\n",
       "      <td>4.5</td>\n",
       "      <td>Bonin Islands</td>\n",
       "      <td>usgs</td>\n",
       "    </tr>\n",
       "  </tbody>\n",
       "</table>\n",
       "<p>93 rows × 7 columns</p>\n",
       "</div>"
      ],
      "text/plain": [
       "                               time  longitude  latitude    depth  magnitude  \\\n",
       "0  2025-09-15 12:45:30.123000+00:00   142.3690   38.3220   35.000        5.1   \n",
       "1         2025-09-17 14:10:05+00:00   141.3545   43.0618   10.200        4.8   \n",
       "2         2025-09-18 23:11:55+00:00   130.4017   33.5904   12.000        4.9   \n",
       "3         2025-09-19 05:00:00+00:00   139.6917   35.6895  999.000        5.5   \n",
       "4  2025-09-20 14:30:10.789000+00:00   140.4670   37.7650   25.000        4.6   \n",
       "..                              ...        ...       ...      ...        ...   \n",
       "88 2025-09-08 10:24:29.806000+00:00   140.4434   32.1620   97.964        4.5   \n",
       "89 2025-09-08 03:45:47.580000+00:00   141.7538   32.4076   10.000        4.6   \n",
       "90 2025-09-07 23:24:22.854000+00:00   137.0576   37.3791   10.329        4.5   \n",
       "91 2025-09-07 12:31:41.554000+00:00   139.9912   31.4219  124.394        4.3   \n",
       "92 2025-09-07 06:51:08.246000+00:00   141.0657   26.2732  117.054        4.5   \n",
       "\n",
       "                      region   source  \n",
       "0   off east coast of Honshu  dataset  \n",
       "1                   Hokkaido  dataset  \n",
       "2                    Fukuoka  dataset  \n",
       "3                      Tokyo  dataset  \n",
       "4       Fukushima Prefecture  dataset  \n",
       "..                       ...      ...  \n",
       "88               Izu Islands     usgs  \n",
       "89               Izu Islands     usgs  \n",
       "90                   Anamizu     usgs  \n",
       "91               Izu Islands     usgs  \n",
       "92             Bonin Islands     usgs  \n",
       "\n",
       "[93 rows x 7 columns]"
      ]
     },
     "execution_count": 8,
     "metadata": {},
     "output_type": "execute_result"
    }
   ],
   "source": [
    "conn.fetch_all()"
   ]
  }
 ],
 "metadata": {
  "kernelspec": {
   "display_name": "Python 3",
   "language": "python",
   "name": "python3"
  },
  "language_info": {
   "codemirror_mode": {
    "name": "ipython",
    "version": 3
   },
   "file_extension": ".py",
   "mimetype": "text/x-python",
   "name": "python",
   "nbconvert_exporter": "python",
   "pygments_lexer": "ipython3",
   "version": "3.11.3"
  }
 },
 "nbformat": 4,
 "nbformat_minor": 5
}
